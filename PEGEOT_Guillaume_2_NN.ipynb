{
 "cells": [
  {
   "cell_type": "code",
   "execution_count": 1,
   "metadata": {},
   "outputs": [],
   "source": [
    "import tensorflow as tf\n",
    "from PIL import Image, ImageEnhance, ImageFilter, ImageOps\n",
    "import os\n",
    "from tqdm import tqdm\n",
    "import xml.etree.ElementTree as ET\n",
    "import random\n",
    "import matplotlib.pyplot as plt\n",
    "\n",
    "import numpy as np\n",
    "import pandas as pd\n",
    "from sklearn.model_selection import train_test_split\n",
    "\n",
    "from tensorflow.keras.models import Sequential\n",
    "from tensorflow.keras import layers, models\n",
    "from tensorflow.keras.layers import Conv2D, MaxPooling2D, Flatten, Dense, Dropout\n",
    "from tensorflow.keras.utils import to_categorical\n",
    "from sklearn.preprocessing import LabelEncoder\n",
    "from sklearn.metrics import accuracy_score, recall_score, f1_score, classification_report\n"
   ]
  },
  {
   "cell_type": "code",
   "execution_count": 2,
   "metadata": {},
   "outputs": [],
   "source": [
    "import fonctions_from_notebook_1"
   ]
  },
  {
   "cell_type": "code",
   "execution_count": 3,
   "metadata": {},
   "outputs": [],
   "source": [
    "images_dir_OG= \"./Datas/Images\"\n",
    "annotations_dir_OG= \"./Datas/Annotation\"\n",
    "images_dir_S= \"./Datas/Images_Small\"\n",
    "annotations_dir_S= \"./Datas/Annotation_Small\"\n",
    "images_dir_M= \"./Datas/Images_M\"\n",
    "annotations_dir_M= \"./Datas/Annotation_M\"\n",
    "output_size=(150, 150)\n",
    "#output_size=(224, 224)\n",
    "my_input_shape =(150,150,3)"
   ]
  },
  {
   "cell_type": "code",
   "execution_count": 4,
   "metadata": {},
   "outputs": [
    {
     "name": "stderr",
     "output_type": "stream",
     "text": [
      "Processing directories: 100%|██████████| 31/31 [00:19<00:00,  1.62it/s, current_directory=./Datas/Images_M\\n02093428-American_Staffordshire_terrier]\n",
      "Processing directories: 100%|██████████| 31/31 [00:53<00:00,  1.72s/it, current_directory=./Datas/Images_M\\n02093428-American_Staffordshire_terrier]\n"
     ]
    }
   ],
   "source": [
    "datas_raw =fonctions_from_notebook_1.get_dogs_picture_breed_raw_pics(images_dir_M,annotations_dir_M,output_size)\n",
    "datas_altered =fonctions_from_notebook_1.get_dogs_picture_breed(images_dir_M,annotations_dir_M,output_size)"
   ]
  },
  {
   "cell_type": "code",
   "execution_count": 5,
   "metadata": {},
   "outputs": [
    {
     "name": "stdout",
     "output_type": "stream",
     "text": [
      "['Chihuahua' 'Japanese_spaniel' 'Maltese_dog' 'Pekinese' 'Shih-Tzu'\n",
      " 'Blenheim_spaniel' 'papillon' 'toy_terrier' 'Rhodesian_ridgeback'\n",
      " 'Afghan_hound' 'basset' 'beagle' 'bloodhound' 'bluetick'\n",
      " 'black-and-tan_coonhound' 'Walker_hound' 'English_foxhound' 'redbone'\n",
      " 'borzoi' 'Irish_wolfhound' 'Italian_greyhound' 'whippet' 'Ibizan_hound'\n",
      " 'Norwegian_elkhound' 'otterhound' 'Saluki' 'Scottish_deerhound'\n",
      " 'Weimaraner' 'Staffordshire_bullterrier' 'American_Staffordshire_terrier']\n"
     ]
    }
   ],
   "source": [
    "print(datas_raw['breed'].unique())\n",
    "my_num_classes = len(datas_raw['breed'].unique())"
   ]
  },
  {
   "cell_type": "code",
   "execution_count": 6,
   "metadata": {},
   "outputs": [],
   "source": [
    "label_encoder = LabelEncoder()\n",
    "datas_raw['breed'] = label_encoder.fit_transform(datas_raw['breed'])\n",
    "datas_altered['breed'] = label_encoder.fit_transform(datas_raw['breed'])"
   ]
  },
  {
   "cell_type": "code",
   "execution_count": 7,
   "metadata": {},
   "outputs": [
    {
     "data": {
      "text/plain": [
       "<bound method DataFrame.info of                                                   image  breed\n",
       "0     <PIL.Image.Image image mode=RGB size=150x150 a...      3\n",
       "1     <PIL.Image.Image image mode=RGB size=150x150 a...      3\n",
       "2     <PIL.Image.Image image mode=RGB size=150x150 a...      3\n",
       "3     <PIL.Image.Image image mode=RGB size=150x150 a...      3\n",
       "4     <PIL.Image.Image image mode=RGB size=150x150 a...      3\n",
       "...                                                 ...    ...\n",
       "5443  <PIL.Image.Image image mode=RGB size=150x150 a...      1\n",
       "5444  <PIL.Image.Image image mode=RGB size=150x150 a...      1\n",
       "5445  <PIL.Image.Image image mode=RGB size=150x150 a...      1\n",
       "5446  <PIL.Image.Image image mode=RGB size=150x150 a...      1\n",
       "5447  <PIL.Image.Image image mode=RGB size=150x150 a...      1\n",
       "\n",
       "[5448 rows x 2 columns]>"
      ]
     },
     "execution_count": 7,
     "metadata": {},
     "output_type": "execute_result"
    }
   ],
   "source": [
    "datas_raw.info"
   ]
  },
  {
   "cell_type": "code",
   "execution_count": 8,
   "metadata": {},
   "outputs": [],
   "source": [
    "train_val_df_raw, test_df_raw = train_test_split(datas_raw, test_size=0.2, stratify=datas_raw['breed'], random_state=42)\n",
    "train_df_raw, val_df_raw = train_test_split(train_val_df_raw, test_size=0.25, stratify=train_val_df_raw['breed'], random_state=42)  # 0.25 x 0.8 = 0.2\n",
    "\n",
    "# Separate features and labels\n",
    "x_train_raw = np.stack(train_df_raw['image'].values)\n",
    "y_train_raw = np.stack(train_df_raw['breed'].values)\n",
    "x_val_raw = np.stack(val_df_raw['image'].values)\n",
    "y_val_raw = np.stack(val_df_raw['breed'].values)\n",
    "x_test_raw = np.stack(test_df_raw['image'].values)\n",
    "y_test_raw = np.stack(test_df_raw['breed'].values)\n",
    "\n",
    "# Convertir les labels en encodage one-hot\n",
    "y_train_raw = to_categorical(y_train_raw, num_classes=my_num_classes)\n",
    "y_val_raw = to_categorical(y_val_raw, num_classes=my_num_classes)\n",
    "y_test_raw = to_categorical(y_test_raw, num_classes=my_num_classes)"
   ]
  },
  {
   "cell_type": "code",
   "execution_count": 9,
   "metadata": {},
   "outputs": [],
   "source": [
    "train_val_df_altered, test_df_altered = train_test_split(datas_altered, test_size=0.2, stratify=datas_altered['breed'], random_state=42)\n",
    "train_df_altered, val_df_altered = train_test_split(train_val_df_altered, test_size=0.25, stratify=train_val_df_altered['breed'], random_state=42)\n",
    "\n",
    "# Separate features and labels\n",
    "x_train_altered = np.stack(train_df_altered['image'].values)\n",
    "y_train_altered = np.stack(train_df_altered['breed'].values)\n",
    "x_val_altered = np.stack(val_df_altered['image'].values)\n",
    "y_val_altered = np.stack(val_df_altered['breed'].values)\n",
    "x_test_altered = np.stack(test_df_altered['image'].values)\n",
    "y_test_altered = np.stack(test_df_altered['breed'].values)\n",
    "\n",
    "# Convertir les labels en encodage one-hot\n",
    "y_train_altered = to_categorical(y_train_altered, num_classes=my_num_classes)\n",
    "y_val_altered = to_categorical(y_val_altered, num_classes=my_num_classes)\n",
    "y_test_altered = to_categorical(y_test_altered, num_classes=my_num_classes)"
   ]
  },
  {
   "cell_type": "code",
   "execution_count": 10,
   "metadata": {},
   "outputs": [],
   "source": [
    "# Création du modèle de réseau de neurones\n",
    "model = Sequential()\n",
    "model.add(layers.Conv2D(32, (3, 3), activation='relu', input_shape=my_input_shape))\n",
    "model.add(layers.MaxPooling2D((2, 2)))\n",
    "model.add(layers.Conv2D(64, (3, 3), activation='relu'))\n",
    "model.add(layers.MaxPooling2D((2, 2)))\n",
    "model.add(layers.Conv2D(128, (3, 3), activation='relu'))\n",
    "model.add(layers.MaxPooling2D((2, 2)))\n",
    "model.add(layers.Conv2D(128, (3, 3), activation='relu'))\n",
    "model.add(layers.MaxPooling2D((2, 2)))\n",
    "model.add(layers.Flatten())\n",
    "model.add(layers.Dense(512, activation='relu'))\n",
    "model.add(layers.Dense(len(datas_raw['breed'].unique()), activation='softmax'))\n",
    "\n",
    "\n",
    "model.compile(loss='categorical_crossentropy', optimizer='adam', metrics=['accuracy'])"
   ]
  },
  {
   "cell_type": "code",
   "execution_count": 11,
   "metadata": {},
   "outputs": [
    {
     "name": "stdout",
     "output_type": "stream",
     "text": [
      "Epoch 1/30\n",
      "102/102 [==============================] - 289s 2s/step - loss: 6.4883 - accuracy: 0.0516 - val_loss: 3.3650 - val_accuracy: 0.0615\n",
      "Epoch 2/30\n",
      "102/102 [==============================] - 159s 2s/step - loss: 3.2645 - accuracy: 0.1002 - val_loss: 3.4046 - val_accuracy: 0.0734\n",
      "Epoch 3/30\n",
      "102/102 [==============================] - 122s 1s/step - loss: 3.0466 - accuracy: 0.1458 - val_loss: 3.5863 - val_accuracy: 0.0872\n",
      "Epoch 4/30\n",
      "102/102 [==============================] - 159s 2s/step - loss: 2.7546 - accuracy: 0.2418 - val_loss: 3.8204 - val_accuracy: 0.0890\n",
      "Epoch 5/30\n",
      "102/102 [==============================] - 179s 2s/step - loss: 2.3309 - accuracy: 0.3338 - val_loss: 4.0729 - val_accuracy: 0.0789\n",
      "Epoch 6/30\n",
      "102/102 [==============================] - 183s 2s/step - loss: 1.9586 - accuracy: 0.4460 - val_loss: 5.6234 - val_accuracy: 0.0752\n",
      "Epoch 7/30\n",
      "102/102 [==============================] - 150s 1s/step - loss: 1.4508 - accuracy: 0.5939 - val_loss: 6.4725 - val_accuracy: 0.0798\n",
      "Epoch 8/30\n",
      "102/102 [==============================] - 144s 1s/step - loss: 1.0293 - accuracy: 0.7082 - val_loss: 7.9682 - val_accuracy: 0.0789\n",
      "Epoch 9/30\n",
      "102/102 [==============================] - 96s 941ms/step - loss: 0.7191 - accuracy: 0.7909 - val_loss: 8.7714 - val_accuracy: 0.0807\n",
      "Epoch 10/30\n",
      "102/102 [==============================] - 106s 1s/step - loss: 0.6440 - accuracy: 0.8308 - val_loss: 9.3547 - val_accuracy: 0.0734\n",
      "Epoch 11/30\n",
      "102/102 [==============================] - 60s 589ms/step - loss: 0.5527 - accuracy: 0.8473 - val_loss: 9.3638 - val_accuracy: 0.0725\n",
      "Epoch 12/30\n",
      "102/102 [==============================] - 49s 485ms/step - loss: 0.5125 - accuracy: 0.8602 - val_loss: 11.5218 - val_accuracy: 0.0881\n",
      "Epoch 13/30\n",
      "102/102 [==============================] - 44s 417ms/step - loss: 0.3078 - accuracy: 0.9247 - val_loss: 13.1592 - val_accuracy: 0.0954\n",
      "Epoch 14/30\n",
      "102/102 [==============================] - 37s 364ms/step - loss: 0.2439 - accuracy: 0.9553 - val_loss: 13.0159 - val_accuracy: 0.0972\n",
      "Epoch 15/30\n",
      "102/102 [==============================] - 41s 386ms/step - loss: 0.1974 - accuracy: 0.9538 - val_loss: 13.6506 - val_accuracy: 0.0890\n",
      "Epoch 16/30\n",
      "102/102 [==============================] - 44s 429ms/step - loss: 0.1926 - accuracy: 0.9583 - val_loss: 14.9736 - val_accuracy: 0.0862\n",
      "Epoch 17/30\n",
      "102/102 [==============================] - 45s 442ms/step - loss: 0.1796 - accuracy: 0.9577 - val_loss: 14.5150 - val_accuracy: 0.0725\n",
      "Epoch 18/30\n",
      "102/102 [==============================] - 45s 439ms/step - loss: 0.2021 - accuracy: 0.9556 - val_loss: 15.2428 - val_accuracy: 0.0752\n",
      "Epoch 19/30\n",
      "102/102 [==============================] - 45s 445ms/step - loss: 0.1375 - accuracy: 0.9649 - val_loss: 17.0085 - val_accuracy: 0.0826\n",
      "Epoch 20/30\n",
      "102/102 [==============================] - 54s 529ms/step - loss: 0.2724 - accuracy: 0.9400 - val_loss: 14.7550 - val_accuracy: 0.0761\n",
      "Epoch 21/30\n",
      "102/102 [==============================] - 105s 1s/step - loss: 0.1851 - accuracy: 0.9580 - val_loss: 14.2826 - val_accuracy: 0.0899\n",
      "Epoch 22/30\n",
      "102/102 [==============================] - 117s 1s/step - loss: 0.0770 - accuracy: 0.9802 - val_loss: 17.7608 - val_accuracy: 0.0807\n",
      "Epoch 23/30\n",
      "102/102 [==============================] - 111s 1s/step - loss: 0.0847 - accuracy: 0.9817 - val_loss: 17.3911 - val_accuracy: 0.0917\n",
      "Epoch 24/30\n",
      "102/102 [==============================] - 46s 454ms/step - loss: 0.3191 - accuracy: 0.9352 - val_loss: 13.5982 - val_accuracy: 0.0908\n",
      "Epoch 25/30\n",
      "102/102 [==============================] - 39s 390ms/step - loss: 0.2696 - accuracy: 0.9331 - val_loss: 15.1366 - val_accuracy: 0.0789\n",
      "Epoch 26/30\n",
      "102/102 [==============================] - 51s 507ms/step - loss: 0.1807 - accuracy: 0.9562 - val_loss: 14.4383 - val_accuracy: 0.0835\n",
      "Epoch 27/30\n",
      "102/102 [==============================] - 48s 456ms/step - loss: 0.1461 - accuracy: 0.9616 - val_loss: 15.8380 - val_accuracy: 0.0844\n",
      "Epoch 28/30\n",
      "102/102 [==============================] - 44s 438ms/step - loss: 0.0771 - accuracy: 0.9814 - val_loss: 17.5329 - val_accuracy: 0.0817\n",
      "Epoch 29/30\n",
      "102/102 [==============================] - 39s 388ms/step - loss: 0.0752 - accuracy: 0.9835 - val_loss: 19.9843 - val_accuracy: 0.0908\n",
      "Epoch 30/30\n",
      " 41/102 [===========>..................] - ETA: 26s - loss: 0.0871 - accuracy: 0.9786WARNING:tensorflow:Your input ran out of data; interrupting training. Make sure that your dataset or generator can generate at least `steps_per_epoch * epochs` batches (in this case, 3060 batches). You may need to use the repeat() function when building your dataset.\n",
      "102/102 [==============================] - 26s 259ms/step - loss: 0.0870 - accuracy: 0.9786 - val_loss: 19.2250 - val_accuracy: 0.0881\n"
     ]
    }
   ],
   "source": [
    "history_raw = model.fit(\n",
    "    x_train_raw,\n",
    "    y_train_raw,\n",
    "    steps_per_epoch=len(train_df_raw) // 32,\n",
    "    epochs=30,\n",
    "    validation_data=(x_val_raw, y_val_raw),# Ensemble de validation\n",
    "    validation_steps=len(val_df_raw) // 32\n",
    ")"
   ]
  },
  {
   "cell_type": "code",
   "execution_count": 12,
   "metadata": {},
   "outputs": [
    {
     "name": "stdout",
     "output_type": "stream",
     "text": [
      "35/35 [==============================] - 24s 436ms/step\n"
     ]
    }
   ],
   "source": [
    "y_pred_raw = model.predict(x_test_raw)"
   ]
  },
  {
   "cell_type": "code",
   "execution_count": 13,
   "metadata": {},
   "outputs": [
    {
     "name": "stdout",
     "output_type": "stream",
     "text": [
      "[[1. 0. 0. ... 0. 0. 0.]\n",
      " [0. 0. 0. ... 0. 0. 0.]\n",
      " [0. 0. 0. ... 0. 0. 0.]\n",
      " ...\n",
      " [0. 0. 0. ... 0. 0. 1.]\n",
      " [0. 0. 0. ... 0. 0. 0.]\n",
      " [0. 0. 0. ... 0. 0. 0.]]\n",
      "[[4.8755123e-06 5.6741447e-07 4.4525743e-07 ... 5.6292229e-06\n",
      "  3.0674223e-06 2.6777696e-09]\n",
      " [3.4615243e-07 1.4678483e-04 1.4876096e-03 ... 1.5989182e-09\n",
      "  1.6763770e-04 6.6848169e-03]\n",
      " [3.4993958e-02 5.8181710e-03 4.0109383e-04 ... 7.1866743e-02\n",
      "  4.6703381e-08 8.6096969e-07]\n",
      " ...\n",
      " [5.1631867e-15 6.4610565e-01 2.2173671e-14 ... 1.3062018e-13\n",
      "  1.1395151e-21 1.5782537e-17]\n",
      " [3.9983189e-18 4.4523463e-07 4.7717213e-20 ... 1.8555973e-21\n",
      "  6.9863385e-18 2.0294328e-14]\n",
      " [9.0099070e-03 4.3445162e-02 2.8395047e-04 ... 4.4530188e-03\n",
      "  8.7477783e-05 5.5351364e-03]]\n"
     ]
    }
   ],
   "source": [
    "print(y_test_raw)\n",
    "print(y_pred_raw)"
   ]
  },
  {
   "cell_type": "code",
   "execution_count": 14,
   "metadata": {},
   "outputs": [
    {
     "name": "stdout",
     "output_type": "stream",
     "text": [
      "[ 4 20 17 ...  1  5  6]\n",
      "[ 0  6 13 ... 29 25 25]\n"
     ]
    }
   ],
   "source": [
    "if len(y_pred_raw.shape) > 1 and y_pred_raw.shape[1] > 1:\n",
    "    y_pred_raw = np.argmax(y_pred_raw, axis=1)\n",
    "print(y_pred_raw)\n",
    "if len(y_test_raw.shape) > 1 and y_test_raw.shape[1] > 1:\n",
    "    y_test_raw = np.argmax(y_test_raw, axis=1)\n",
    "print(y_test_raw)"
   ]
  },
  {
   "cell_type": "code",
   "execution_count": 15,
   "metadata": {},
   "outputs": [
    {
     "name": "stdout",
     "output_type": "stream",
     "text": [
      "Accuracy: 0.07\n",
      "Recall: 0.07\n",
      "F1 Score: 0.07\n"
     ]
    }
   ],
   "source": [
    "accuracy_adam = accuracy_score(y_test_raw, y_pred_raw)\n",
    "print(f\"Accuracy: {accuracy_adam:.2f}\")\n",
    "\n",
    "recall = recall_score(y_test_raw, y_pred_raw, average='micro')\n",
    "print(f\"Recall: {recall:.2f}\")\n",
    "\n",
    "f1 = f1_score(y_test_raw, y_pred_raw, average='micro')\n",
    "print(f\"F1 Score: {f1:.2f}\")"
   ]
  },
  {
   "cell_type": "code",
   "execution_count": 16,
   "metadata": {},
   "outputs": [
    {
     "name": "stdout",
     "output_type": "stream",
     "text": [
      "Epoch 1/30\n",
      "102/102 [==============================] - 47s 436ms/step - loss: 3.9375 - accuracy: 0.0405 - val_loss: 3.4054 - val_accuracy: 0.0450\n",
      "Epoch 2/30\n",
      "102/102 [==============================] - 18s 182ms/step - loss: 3.3950 - accuracy: 0.0408 - val_loss: 3.4068 - val_accuracy: 0.0450\n",
      "Epoch 3/30\n",
      "102/102 [==============================] - 22s 218ms/step - loss: 3.3903 - accuracy: 0.0426 - val_loss: 3.4053 - val_accuracy: 0.0450\n",
      "Epoch 4/30\n",
      "102/102 [==============================] - 47s 467ms/step - loss: 3.3892 - accuracy: 0.0480 - val_loss: 3.4063 - val_accuracy: 0.0404\n",
      "Epoch 5/30\n",
      "102/102 [==============================] - 56s 531ms/step - loss: 3.3901 - accuracy: 0.0423 - val_loss: 3.4074 - val_accuracy: 0.0459\n",
      "Epoch 6/30\n",
      "102/102 [==============================] - 90s 882ms/step - loss: 3.3892 - accuracy: 0.0411 - val_loss: 3.5400 - val_accuracy: 0.0477\n",
      "Epoch 7/30\n",
      "102/102 [==============================] - 94s 922ms/step - loss: 3.3872 - accuracy: 0.0450 - val_loss: 3.4497 - val_accuracy: 0.0450\n",
      "Epoch 8/30\n",
      "102/102 [==============================] - 49s 469ms/step - loss: 3.3871 - accuracy: 0.0504 - val_loss: 3.4762 - val_accuracy: 0.0459\n"
     ]
    }
   ],
   "source": [
    "from keras.callbacks import EarlyStopping\n",
    "early_stopping = EarlyStopping(monitor='val_loss', patience=5, restore_best_weights=True)\n",
    "\n",
    "history_altered = model.fit(\n",
    "    x_train_altered,\n",
    "    y_train_altered,\n",
    "    steps_per_epoch=len(train_df_altered) // 32,\n",
    "    epochs=30,\n",
    "    validation_data=(x_val_raw, y_val_altered),# Ensemble de validation\n",
    "    validation_steps=len(val_df_altered) // 32,\n",
    "    callbacks=[early_stopping]\n",
    ")"
   ]
  },
  {
   "cell_type": "code",
   "execution_count": 17,
   "metadata": {},
   "outputs": [
    {
     "name": "stdout",
     "output_type": "stream",
     "text": [
      "35/35 [==============================] - 8s 173ms/step\n",
      "[ 4 20 17 ...  1  5  6]\n",
      "[ 0  6 13 ... 29 25 25]\n"
     ]
    }
   ],
   "source": [
    "y_pred_altered = model.predict(x_test_altered)\n",
    "\n",
    "if len(y_pred_altered.shape) > 1 and y_pred_altered.shape[1] > 1:\n",
    "    y_pred_altered = np.argmax(y_pred_altered, axis=1)\n",
    "print(y_pred_raw)\n",
    "if len(y_test_altered.shape) > 1 and y_test_altered.shape[1] > 1:\n",
    "    y_test_altered = np.argmax(y_test_altered, axis=1)\n",
    "print(y_test_altered)"
   ]
  },
  {
   "cell_type": "code",
   "execution_count": 18,
   "metadata": {},
   "outputs": [
    {
     "name": "stdout",
     "output_type": "stream",
     "text": [
      "Accuracy: 0.05\n",
      "Recall: 0.05\n",
      "F1 Score: 0.05\n"
     ]
    }
   ],
   "source": [
    "# Calculer les métriques\n",
    "accuracy_adam = accuracy_score(y_test_altered, y_pred_altered)\n",
    "print(f\"Accuracy: {accuracy_adam:.2f}\")\n",
    "\n",
    "recall = recall_score(y_test_altered, y_pred_altered, average='micro')\n",
    "print(f\"Recall: {recall:.2f}\")\n",
    "\n",
    "f1 = f1_score(y_test_altered, y_pred_altered, average='micro')\n",
    "print(f\"F1 Score: {f1:.2f}\")"
   ]
  },
  {
   "cell_type": "markdown",
   "metadata": {},
   "source": [
    "# LeNet-5"
   ]
  },
  {
   "cell_type": "code",
   "execution_count": 19,
   "metadata": {},
   "outputs": [
    {
     "name": "stdout",
     "output_type": "stream",
     "text": [
      "Model: \"sequential_1\"\n",
      "_________________________________________________________________\n",
      " Layer (type)                Output Shape              Param #   \n",
      "=================================================================\n",
      " conv2d_4 (Conv2D)           (None, 150, 150, 6)       456       \n",
      "                                                                 \n",
      " max_pooling2d_4 (MaxPooling  (None, 75, 75, 6)        0         \n",
      " 2D)                                                             \n",
      "                                                                 \n",
      " conv2d_5 (Conv2D)           (None, 71, 71, 16)        2416      \n",
      "                                                                 \n",
      " max_pooling2d_5 (MaxPooling  (None, 35, 35, 16)       0         \n",
      " 2D)                                                             \n",
      "                                                                 \n",
      " flatten_1 (Flatten)         (None, 19600)             0         \n",
      "                                                                 \n",
      " dense_2 (Dense)             (None, 120)               2352120   \n",
      "                                                                 \n",
      " dense_3 (Dense)             (None, 84)                10164     \n",
      "                                                                 \n",
      " dense_4 (Dense)             (None, 30)                2550      \n",
      "                                                                 \n",
      "=================================================================\n",
      "Total params: 2,367,706\n",
      "Trainable params: 2,367,706\n",
      "Non-trainable params: 0\n",
      "_________________________________________________________________\n"
     ]
    }
   ],
   "source": [
    "def create_lenet5(input_shape, num_classes):\n",
    "    model = Sequential()    \n",
    "    # C1 - Convolutional Layer\n",
    "    model.add(Conv2D(filters=6, kernel_size=(5, 5), activation='relu', input_shape=input_shape, padding='same'))    \n",
    "    # S2 - Subsampling Layer (MaxPooling)\n",
    "    model.add(MaxPooling2D(pool_size=(2, 2), strides=(2, 2)))    \n",
    "    # C3 - Convolutional Layer\n",
    "    model.add(Conv2D(filters=16, kernel_size=(5, 5), activation='relu', padding='valid'))    \n",
    "    # S4 - Subsampling Layer (MaxPooling)\n",
    "    model.add(MaxPooling2D(pool_size=(2, 2), strides=(2, 2)))    \n",
    "    # C5 - Fully Connected Convolutional Layer\n",
    "    model.add(Flatten())\n",
    "    model.add(Dense(units=120, activation='relu'))    \n",
    "    # F6 - Fully Connected Layer\n",
    "    model.add(Dense(units=84, activation='relu'))    \n",
    "    # Output Layer\n",
    "    model.add(Dense(units=num_classes, activation='softmax'))\n",
    "    \n",
    "    return model\n",
    "\n",
    "\n",
    "model_lenet5 = create_lenet5(my_input_shape, my_num_classes)\n",
    "model_lenet5.compile(optimizer='adam', loss='categorical_crossentropy', metrics=['accuracy'])\n",
    "model_lenet5.summary()"
   ]
  },
  {
   "cell_type": "code",
   "execution_count": 20,
   "metadata": {},
   "outputs": [
    {
     "name": "stdout",
     "output_type": "stream",
     "text": [
      "Epoch 1/30\n",
      "103/103 [==============================] - 38s 336ms/step - loss: 14.7424 - accuracy: 0.0382 - val_loss: 3.4001 - val_accuracy: 0.0541\n",
      "Epoch 2/30\n",
      "103/103 [==============================] - 45s 437ms/step - loss: 3.2304 - accuracy: 0.1004 - val_loss: 3.4333 - val_accuracy: 0.0624\n",
      "Epoch 3/30\n",
      "103/103 [==============================] - 42s 408ms/step - loss: 2.8574 - accuracy: 0.2105 - val_loss: 3.6480 - val_accuracy: 0.0477\n",
      "Epoch 4/30\n",
      "103/103 [==============================] - 36s 354ms/step - loss: 2.3010 - accuracy: 0.3577 - val_loss: 4.2973 - val_accuracy: 0.0615\n",
      "Epoch 5/30\n",
      "103/103 [==============================] - 48s 470ms/step - loss: 1.6798 - accuracy: 0.5324 - val_loss: 4.7735 - val_accuracy: 0.0468\n",
      "Epoch 6/30\n",
      "103/103 [==============================] - 60s 583ms/step - loss: 1.1914 - accuracy: 0.6778 - val_loss: 5.8180 - val_accuracy: 0.0716\n",
      "Epoch 7/30\n",
      "103/103 [==============================] - 56s 543ms/step - loss: 0.8473 - accuracy: 0.7671 - val_loss: 6.9147 - val_accuracy: 0.0596\n",
      "Epoch 8/30\n",
      "103/103 [==============================] - 65s 631ms/step - loss: 0.6294 - accuracy: 0.8302 - val_loss: 7.4230 - val_accuracy: 0.0596\n",
      "Epoch 9/30\n",
      "103/103 [==============================] - 15s 151ms/step - loss: 0.5394 - accuracy: 0.8608 - val_loss: 8.3815 - val_accuracy: 0.0550\n",
      "Epoch 10/30\n",
      "103/103 [==============================] - 19s 183ms/step - loss: 0.3926 - accuracy: 0.9054 - val_loss: 10.0131 - val_accuracy: 0.0505\n",
      "Epoch 11/30\n",
      "103/103 [==============================] - 47s 458ms/step - loss: 0.2644 - accuracy: 0.9370 - val_loss: 10.0129 - val_accuracy: 0.0560\n",
      "Epoch 12/30\n",
      "103/103 [==============================] - 49s 479ms/step - loss: 0.2326 - accuracy: 0.9507 - val_loss: 12.0632 - val_accuracy: 0.0532\n",
      "Epoch 13/30\n",
      "103/103 [==============================] - 18s 177ms/step - loss: 0.2331 - accuracy: 0.9541 - val_loss: 11.0368 - val_accuracy: 0.0661\n",
      "Epoch 14/30\n",
      "103/103 [==============================] - 10s 98ms/step - loss: 0.1654 - accuracy: 0.9666 - val_loss: 11.6738 - val_accuracy: 0.0578\n",
      "Epoch 15/30\n",
      "103/103 [==============================] - 12s 116ms/step - loss: 0.1327 - accuracy: 0.9715 - val_loss: 12.3484 - val_accuracy: 0.0532\n",
      "Epoch 16/30\n",
      "103/103 [==============================] - 9s 88ms/step - loss: 0.1158 - accuracy: 0.9783 - val_loss: 12.9687 - val_accuracy: 0.0514\n",
      "Epoch 17/30\n",
      "103/103 [==============================] - 9s 89ms/step - loss: 0.1879 - accuracy: 0.9648 - val_loss: 12.1532 - val_accuracy: 0.0560\n",
      "Epoch 18/30\n",
      "103/103 [==============================] - 12s 113ms/step - loss: 0.1910 - accuracy: 0.9572 - val_loss: 12.7738 - val_accuracy: 0.0633\n",
      "Epoch 19/30\n",
      "103/103 [==============================] - 11s 110ms/step - loss: 0.1067 - accuracy: 0.9786 - val_loss: 14.2376 - val_accuracy: 0.0505\n",
      "Epoch 20/30\n",
      "103/103 [==============================] - 9s 92ms/step - loss: 0.1171 - accuracy: 0.9734 - val_loss: 13.9571 - val_accuracy: 0.0468\n",
      "Epoch 21/30\n",
      "103/103 [==============================] - 14s 133ms/step - loss: 0.0971 - accuracy: 0.9780 - val_loss: 15.2087 - val_accuracy: 0.0615\n",
      "Epoch 22/30\n",
      "103/103 [==============================] - 14s 139ms/step - loss: 0.2257 - accuracy: 0.9520 - val_loss: 13.0787 - val_accuracy: 0.0578\n",
      "Epoch 23/30\n",
      "103/103 [==============================] - 10s 99ms/step - loss: 0.1175 - accuracy: 0.9700 - val_loss: 15.1974 - val_accuracy: 0.0615\n",
      "Epoch 24/30\n",
      "103/103 [==============================] - 11s 112ms/step - loss: 0.0650 - accuracy: 0.9847 - val_loss: 15.9084 - val_accuracy: 0.0541\n",
      "Epoch 25/30\n",
      "103/103 [==============================] - 13s 128ms/step - loss: 0.0447 - accuracy: 0.9905 - val_loss: 16.1980 - val_accuracy: 0.0560\n",
      "Epoch 26/30\n",
      "103/103 [==============================] - 10s 94ms/step - loss: 0.0635 - accuracy: 0.9847 - val_loss: 15.0727 - val_accuracy: 0.0532\n",
      "Epoch 27/30\n",
      "103/103 [==============================] - 15s 145ms/step - loss: 0.0695 - accuracy: 0.9810 - val_loss: 16.1319 - val_accuracy: 0.0688\n",
      "Epoch 28/30\n",
      "103/103 [==============================] - 18s 177ms/step - loss: 0.0981 - accuracy: 0.9758 - val_loss: 15.1839 - val_accuracy: 0.0642\n",
      "Epoch 29/30\n",
      "103/103 [==============================] - 12s 116ms/step - loss: 0.1153 - accuracy: 0.9718 - val_loss: 16.1415 - val_accuracy: 0.0550\n",
      "Epoch 30/30\n",
      "103/103 [==============================] - 30s 292ms/step - loss: 0.1071 - accuracy: 0.9804 - val_loss: 16.2731 - val_accuracy: 0.0560\n"
     ]
    }
   ],
   "source": [
    "history_net5_raw = model_lenet5.fit(\n",
    "    x_train_raw,\n",
    "    y_train_raw,\n",
    "    epochs=30,\n",
    "    batch_size=32,\n",
    "    validation_data=(x_val_raw, y_val_raw)\n",
    ")\n"
   ]
  },
  {
   "cell_type": "code",
   "execution_count": null,
   "metadata": {},
   "outputs": [],
   "source": [
    "y_pred_raw = model_lenet5.predict(x_test_raw)\n",
    "\n",
    "if len(y_pred_raw.shape) > 1 and y_pred_raw.shape[1] > 1:\n",
    "    y_pred_raw = np.argmax(y_pred_raw, axis=1)\n",
    "print(y_pred_raw)\n",
    "if len(y_test_raw.shape) > 1 and y_test_raw.shape[1] > 1:\n",
    "    y_test_raw = np.argmax(y_test_raw, axis=1)\n",
    "print(y_test_raw)\n",
    "\n",
    "# Calculer les métriques\n",
    "accuracy_adam = accuracy_score(y_test_raw, y_pred_raw)\n",
    "print(f\"Accuracy: {accuracy_adam:.2f}\")\n",
    "\n",
    "recall = recall_score(y_test_raw, y_pred_raw, average='micro')\n",
    "print(f\"Recall: {recall:.2f}\")\n",
    "\n",
    "f1 = f1_score(y_test_raw, y_pred_raw, average='micro')\n",
    "print(f\"F1 Score: {f1:.2f}\")"
   ]
  },
  {
   "cell_type": "code",
   "execution_count": null,
   "metadata": {},
   "outputs": [
    {
     "ename": "",
     "evalue": "",
     "output_type": "error",
     "traceback": [
      "\u001b[1;31mThe Kernel crashed while executing code in the current cell or a previous cell. \n",
      "\u001b[1;31mPlease review the code in the cell(s) to identify a possible cause of the failure. \n",
      "\u001b[1;31mClick <a href='https://aka.ms/vscodeJupyterKernelCrash'>here</a> for more info. \n",
      "\u001b[1;31mView Jupyter <a href='command:jupyter.viewOutput'>log</a> for further details."
     ]
    }
   ],
   "source": [
    "history_net5_altered = model_lenet5.fit(\n",
    "    x_train_altered,\n",
    "    y_train_altered,\n",
    "    epochs=30,\n",
    "    batch_size=16,\n",
    "    validation_data=(x_val_altered, y_val_altered),\n",
    "    callbacks=[early_stopping]\n",
    ")\n"
   ]
  },
  {
   "cell_type": "code",
   "execution_count": null,
   "metadata": {},
   "outputs": [
    {
     "name": "stdout",
     "output_type": "stream",
     "text": [
      "35/35 [==============================] - 0s 4ms/step\n",
      "[15  7 24 ...  8 14 15]\n",
      "[ 0  6 13 ... 29 25 25]\n",
      "Accuracy: 0.05\n",
      "Recall: 0.05\n",
      "F1 Score: 0.05\n"
     ]
    }
   ],
   "source": [
    "y_pred_altered = model_lenet5.predict(x_test_altered)\n",
    "\n",
    "if len(y_pred_altered.shape) > 1 and y_pred_altered.shape[1] > 1:\n",
    "    y_pred_altered = np.argmax(y_pred_altered, axis=1)\n",
    "print(y_pred_raw)\n",
    "if len(y_test_altered.shape) > 1 and y_test_altered.shape[1] > 1:\n",
    "    y_test_altered = np.argmax(y_test_altered, axis=1)\n",
    "print(y_test_altered)\n",
    "\n",
    "# Calculer les métriques\n",
    "accuracy_adam = accuracy_score(y_test_altered, y_pred_altered)\n",
    "print(f\"Accuracy: {accuracy_adam:.2f}\")\n",
    "\n",
    "recall = recall_score(y_test_altered, y_pred_altered, average='micro')\n",
    "print(f\"Recall: {recall:.2f}\")\n",
    "\n",
    "f1 = f1_score(y_test_altered, y_pred_altered, average='micro')\n",
    "print(f\"F1 Score: {f1:.2f}\")"
   ]
  },
  {
   "cell_type": "markdown",
   "metadata": {},
   "source": [
    "# personnal NN"
   ]
  },
  {
   "cell_type": "code",
   "execution_count": null,
   "metadata": {},
   "outputs": [],
   "source": [
    "def create_NN(input_shape, num_classes):\n",
    "    model = Sequential()    \n",
    "    model.add(Conv2D(filters=32, kernel_size=(3, 3), activation='relu', input_shape=input_shape, padding='same'))\n",
    "    model.add(Conv2D(filters=32, kernel_size=(3, 3), activation='relu', padding='valid'))\n",
    "\n",
    "    model.add(Conv2D(filters=64, kernel_size=(3, 3), activation='relu', padding='valid'))\n",
    "    model.add(Conv2D(filters=64, kernel_size=(3, 3), activation='relu', padding='valid'))\n",
    "    model.add(MaxPooling2D(pool_size=(2, 2), strides=(2, 2)))\n",
    "    model.add(Dropout(0.25))\n",
    "\n",
    "    model.add(Conv2D(filters=128, kernel_size=(3, 3), activation='relu', padding='valid'))\n",
    "    model.add(Conv2D(filters=128, kernel_size=(3, 3), activation='relu', padding='valid'))\n",
    "    model.add(MaxPooling2D(pool_size=(2, 2), strides=(2, 2)))\n",
    "    model.add(Dropout(0.25))\n",
    "\n",
    "    model.add(Conv2D(filters=256, kernel_size=(3, 3), activation='relu', padding='valid'))\n",
    "    model.add(Conv2D(filters=256, kernel_size=(3, 3), activation='relu', padding='valid'))\n",
    "    model.add(MaxPooling2D(pool_size=(2, 2), strides=(2, 2)))\n",
    "    model.add(Dropout(0.25))\n",
    "\n",
    "    model.add(Flatten())\n",
    "    model.add(Dense(units=256, activation='relu'))\n",
    "    model.add(Dropout(0.5))\n",
    "    model.add(Dense(units=128, activation='relu'))\n",
    "    model.add(Dropout(0.5))\n",
    "    model.add(Dense(units=num_classes, activation='softmax'))\n",
    "    \n",
    "    return model"
   ]
  },
  {
   "cell_type": "code",
   "execution_count": null,
   "metadata": {},
   "outputs": [
    {
     "name": "stderr",
     "output_type": "stream",
     "text": [
      "Processing directories: 100%|██████████| 31/31 [00:46<00:00,  1.52s/it, current_directory=./Datas/Images_M\\n02093428-American_Staffordshire_terrier]\n"
     ]
    }
   ],
   "source": [
    "output_size_240=(240, 240)\n",
    "input_shape_240 =(240,240,3)\n",
    "\n",
    "datas_altered_240 =fonctions_from_notebook_1.get_dogs_picture_breed_raw_pics(images_dir_OG,annotations_dir_OG,output_size_240)\n",
    "#datas_altered_240 =fonctions_from_notebook_1.get_dogs_picture_breed(images_dir_M,annotations_dir_M,output_size_240)\n",
    "\n",
    "label_encoder = LabelEncoder()\n",
    "datas_altered_240['breed'] = label_encoder.fit_transform(datas_altered_240['breed'])\n",
    "my_num_classes = len(datas_altered_240['breed'].unique())"
   ]
  },
  {
   "cell_type": "code",
   "execution_count": null,
   "metadata": {},
   "outputs": [
    {
     "name": "stdout",
     "output_type": "stream",
     "text": [
      "Model: \"sequential\"\n",
      "_________________________________________________________________\n",
      " Layer (type)                Output Shape              Param #   \n",
      "=================================================================\n",
      " conv2d (Conv2D)             (None, 240, 240, 32)      896       \n",
      "                                                                 \n",
      " conv2d_1 (Conv2D)           (None, 238, 238, 32)      9248      \n",
      "                                                                 \n",
      " conv2d_2 (Conv2D)           (None, 236, 236, 64)      18496     \n",
      "                                                                 \n",
      " conv2d_3 (Conv2D)           (None, 234, 234, 64)      36928     \n",
      "                                                                 \n",
      " max_pooling2d (MaxPooling2D  (None, 117, 117, 64)     0         \n",
      " )                                                               \n",
      "                                                                 \n",
      " dropout (Dropout)           (None, 117, 117, 64)      0         \n",
      "                                                                 \n",
      " conv2d_4 (Conv2D)           (None, 115, 115, 128)     73856     \n",
      "                                                                 \n",
      " conv2d_5 (Conv2D)           (None, 113, 113, 128)     147584    \n",
      "                                                                 \n",
      " max_pooling2d_1 (MaxPooling  (None, 56, 56, 128)      0         \n",
      " 2D)                                                             \n",
      "                                                                 \n",
      " dropout_1 (Dropout)         (None, 56, 56, 128)       0         \n",
      "                                                                 \n",
      " conv2d_6 (Conv2D)           (None, 54, 54, 256)       295168    \n",
      "                                                                 \n",
      " conv2d_7 (Conv2D)           (None, 52, 52, 256)       590080    \n",
      "                                                                 \n",
      " max_pooling2d_2 (MaxPooling  (None, 26, 26, 256)      0         \n",
      " 2D)                                                             \n",
      "                                                                 \n",
      " dropout_2 (Dropout)         (None, 26, 26, 256)       0         \n",
      "                                                                 \n",
      " flatten (Flatten)           (None, 173056)            0         \n",
      "                                                                 \n",
      " dense (Dense)               (None, 256)               44302592  \n",
      "                                                                 \n",
      " dropout_3 (Dropout)         (None, 256)               0         \n",
      "                                                                 \n",
      " dense_1 (Dense)             (None, 128)               32896     \n",
      "                                                                 \n",
      " dropout_4 (Dropout)         (None, 128)               0         \n",
      "                                                                 \n",
      " dense_2 (Dense)             (None, 30)                3870      \n",
      "                                                                 \n",
      "=================================================================\n",
      "Total params: 45,511,614\n",
      "Trainable params: 45,511,614\n",
      "Non-trainable params: 0\n",
      "_________________________________________________________________\n"
     ]
    }
   ],
   "source": [
    "model_NN = create_NN((240,240,3), my_num_classes)\n",
    "model_NN.compile(optimizer='adam', loss='categorical_crossentropy', metrics=['accuracy'])\n",
    "model_NN.summary()"
   ]
  },
  {
   "cell_type": "code",
   "execution_count": null,
   "metadata": {},
   "outputs": [],
   "source": [
    "train_val_df_altered_240, test_df_altered_240 = train_test_split(datas_altered_240, test_size=0.2, stratify=datas_altered_240['breed'], random_state=42)\n",
    "train_df_altered_240, val_df_altered_240 = train_test_split(train_val_df_altered_240, test_size=0.25, stratify=train_val_df_altered_240['breed'], random_state=42)"
   ]
  },
  {
   "cell_type": "code",
   "execution_count": null,
   "metadata": {},
   "outputs": [],
   "source": [
    "# Separate features and labels\n",
    "x_train_altered_240 = np.stack(train_df_altered_240['image'].values)\n",
    "y_train_altered_240 = np.stack(train_df_altered_240['breed'].values)\n",
    "x_val_altered_240 = np.stack(val_df_altered_240['image'].values)\n",
    "y_val_altered_240 = np.stack(val_df_altered_240['breed'].values)\n",
    "x_test_altered_240 = np.stack(test_df_altered_240['image'].values)\n",
    "y_test_altered_240 = np.stack(test_df_altered_240['breed'].values)\n",
    "\n",
    "# Convertir les labels en encodage one-hot\n",
    "y_train_altered_240 = to_categorical(y_train_altered_240, num_classes=my_num_classes)\n",
    "y_val_altered_240 = to_categorical(y_val_altered_240, num_classes=my_num_classes)\n",
    "y_test_altered_240 = to_categorical(y_test_altered_240, num_classes=my_num_classes)"
   ]
  },
  {
   "cell_type": "code",
   "execution_count": null,
   "metadata": {},
   "outputs": [
    {
     "name": "stdout",
     "output_type": "stream",
     "text": [
      "Epoch 1/20\n",
      "103/103 [==============================] - 32s 197ms/step - loss: 5.0792 - accuracy: 0.0398 - val_loss: 3.3986 - val_accuracy: 0.0459\n",
      "Epoch 2/20\n",
      "103/103 [==============================] - 18s 178ms/step - loss: 3.3980 - accuracy: 0.0456 - val_loss: 3.3964 - val_accuracy: 0.0459\n",
      "Epoch 3/20\n",
      "103/103 [==============================] - 18s 177ms/step - loss: 3.3965 - accuracy: 0.0438 - val_loss: 3.3948 - val_accuracy: 0.0459\n",
      "Epoch 4/20\n",
      "103/103 [==============================] - 18s 177ms/step - loss: 3.3952 - accuracy: 0.0462 - val_loss: 3.3935 - val_accuracy: 0.0459\n",
      "Epoch 5/20\n",
      "103/103 [==============================] - 18s 177ms/step - loss: 3.3939 - accuracy: 0.0462 - val_loss: 3.3924 - val_accuracy: 0.0459\n",
      "Epoch 6/20\n",
      "103/103 [==============================] - 18s 178ms/step - loss: 3.3927 - accuracy: 0.0465 - val_loss: 3.3916 - val_accuracy: 0.0459\n",
      "Epoch 7/20\n",
      "103/103 [==============================] - 18s 178ms/step - loss: 3.3927 - accuracy: 0.0459 - val_loss: 3.3911 - val_accuracy: 0.0459\n",
      "Epoch 8/20\n",
      "103/103 [==============================] - 18s 178ms/step - loss: 3.3921 - accuracy: 0.0456 - val_loss: 3.3907 - val_accuracy: 0.0459\n",
      "Epoch 9/20\n",
      "  3/103 [..............................] - ETA: 16s - loss: 3.3863 - accuracy: 0.0625"
     ]
    },
    {
     "ename": "KeyboardInterrupt",
     "evalue": "",
     "output_type": "error",
     "traceback": [
      "\u001b[1;31m---------------------------------------------------------------------------\u001b[0m",
      "\u001b[1;31mKeyboardInterrupt\u001b[0m                         Traceback (most recent call last)",
      "Cell \u001b[1;32mIn[11], line 1\u001b[0m\n\u001b[1;32m----> 1\u001b[0m history_240 \u001b[38;5;241m=\u001b[39m \u001b[43mmodel_NN\u001b[49m\u001b[38;5;241;43m.\u001b[39;49m\u001b[43mfit\u001b[49m\u001b[43m(\u001b[49m\n\u001b[0;32m      2\u001b[0m \u001b[43m    \u001b[49m\u001b[43mx_train_altered_240\u001b[49m\u001b[43m,\u001b[49m\n\u001b[0;32m      3\u001b[0m \u001b[43m    \u001b[49m\u001b[43my_train_altered_240\u001b[49m\u001b[43m,\u001b[49m\n\u001b[0;32m      4\u001b[0m \u001b[43m    \u001b[49m\u001b[43mepochs\u001b[49m\u001b[38;5;241;43m=\u001b[39;49m\u001b[38;5;241;43m20\u001b[39;49m\u001b[43m,\u001b[49m\n\u001b[0;32m      5\u001b[0m \u001b[43m    \u001b[49m\u001b[43mbatch_size\u001b[49m\u001b[38;5;241;43m=\u001b[39;49m\u001b[38;5;241;43m32\u001b[39;49m\u001b[43m,\u001b[49m\n\u001b[0;32m      6\u001b[0m \u001b[43m    \u001b[49m\u001b[43mvalidation_data\u001b[49m\u001b[38;5;241;43m=\u001b[39;49m\u001b[43m(\u001b[49m\u001b[43mx_val_altered_240\u001b[49m\u001b[43m,\u001b[49m\u001b[43m \u001b[49m\u001b[43my_val_altered_240\u001b[49m\u001b[43m)\u001b[49m\n\u001b[0;32m      7\u001b[0m \u001b[43m)\u001b[49m\n",
      "File \u001b[1;32me:\\Users\\Beast-Of-War\\miniconda3\\envs\\tf2_fresh\\lib\\site-packages\\keras\\utils\\traceback_utils.py:65\u001b[0m, in \u001b[0;36mfilter_traceback.<locals>.error_handler\u001b[1;34m(*args, **kwargs)\u001b[0m\n\u001b[0;32m     63\u001b[0m filtered_tb \u001b[38;5;241m=\u001b[39m \u001b[38;5;28;01mNone\u001b[39;00m\n\u001b[0;32m     64\u001b[0m \u001b[38;5;28;01mtry\u001b[39;00m:\n\u001b[1;32m---> 65\u001b[0m     \u001b[38;5;28;01mreturn\u001b[39;00m fn(\u001b[38;5;241m*\u001b[39margs, \u001b[38;5;241m*\u001b[39m\u001b[38;5;241m*\u001b[39mkwargs)\n\u001b[0;32m     66\u001b[0m \u001b[38;5;28;01mexcept\u001b[39;00m \u001b[38;5;167;01mException\u001b[39;00m \u001b[38;5;28;01mas\u001b[39;00m e:\n\u001b[0;32m     67\u001b[0m     filtered_tb \u001b[38;5;241m=\u001b[39m _process_traceback_frames(e\u001b[38;5;241m.\u001b[39m__traceback__)\n",
      "File \u001b[1;32me:\\Users\\Beast-Of-War\\miniconda3\\envs\\tf2_fresh\\lib\\site-packages\\keras\\engine\\training.py:1564\u001b[0m, in \u001b[0;36mModel.fit\u001b[1;34m(self, x, y, batch_size, epochs, verbose, callbacks, validation_split, validation_data, shuffle, class_weight, sample_weight, initial_epoch, steps_per_epoch, validation_steps, validation_batch_size, validation_freq, max_queue_size, workers, use_multiprocessing)\u001b[0m\n\u001b[0;32m   1556\u001b[0m \u001b[38;5;28;01mwith\u001b[39;00m tf\u001b[38;5;241m.\u001b[39mprofiler\u001b[38;5;241m.\u001b[39mexperimental\u001b[38;5;241m.\u001b[39mTrace(\n\u001b[0;32m   1557\u001b[0m     \u001b[38;5;124m\"\u001b[39m\u001b[38;5;124mtrain\u001b[39m\u001b[38;5;124m\"\u001b[39m,\n\u001b[0;32m   1558\u001b[0m     epoch_num\u001b[38;5;241m=\u001b[39mepoch,\n\u001b[1;32m   (...)\u001b[0m\n\u001b[0;32m   1561\u001b[0m     _r\u001b[38;5;241m=\u001b[39m\u001b[38;5;241m1\u001b[39m,\n\u001b[0;32m   1562\u001b[0m ):\n\u001b[0;32m   1563\u001b[0m     callbacks\u001b[38;5;241m.\u001b[39mon_train_batch_begin(step)\n\u001b[1;32m-> 1564\u001b[0m     tmp_logs \u001b[38;5;241m=\u001b[39m \u001b[38;5;28;43mself\u001b[39;49m\u001b[38;5;241;43m.\u001b[39;49m\u001b[43mtrain_function\u001b[49m\u001b[43m(\u001b[49m\u001b[43miterator\u001b[49m\u001b[43m)\u001b[49m\n\u001b[0;32m   1565\u001b[0m     \u001b[38;5;28;01mif\u001b[39;00m data_handler\u001b[38;5;241m.\u001b[39mshould_sync:\n\u001b[0;32m   1566\u001b[0m         context\u001b[38;5;241m.\u001b[39masync_wait()\n",
      "File \u001b[1;32me:\\Users\\Beast-Of-War\\miniconda3\\envs\\tf2_fresh\\lib\\site-packages\\tensorflow\\python\\util\\traceback_utils.py:150\u001b[0m, in \u001b[0;36mfilter_traceback.<locals>.error_handler\u001b[1;34m(*args, **kwargs)\u001b[0m\n\u001b[0;32m    148\u001b[0m filtered_tb \u001b[38;5;241m=\u001b[39m \u001b[38;5;28;01mNone\u001b[39;00m\n\u001b[0;32m    149\u001b[0m \u001b[38;5;28;01mtry\u001b[39;00m:\n\u001b[1;32m--> 150\u001b[0m   \u001b[38;5;28;01mreturn\u001b[39;00m fn(\u001b[38;5;241m*\u001b[39margs, \u001b[38;5;241m*\u001b[39m\u001b[38;5;241m*\u001b[39mkwargs)\n\u001b[0;32m    151\u001b[0m \u001b[38;5;28;01mexcept\u001b[39;00m \u001b[38;5;167;01mException\u001b[39;00m \u001b[38;5;28;01mas\u001b[39;00m e:\n\u001b[0;32m    152\u001b[0m   filtered_tb \u001b[38;5;241m=\u001b[39m _process_traceback_frames(e\u001b[38;5;241m.\u001b[39m__traceback__)\n",
      "File \u001b[1;32me:\\Users\\Beast-Of-War\\miniconda3\\envs\\tf2_fresh\\lib\\site-packages\\tensorflow\\python\\eager\\def_function.py:915\u001b[0m, in \u001b[0;36mFunction.__call__\u001b[1;34m(self, *args, **kwds)\u001b[0m\n\u001b[0;32m    912\u001b[0m compiler \u001b[38;5;241m=\u001b[39m \u001b[38;5;124m\"\u001b[39m\u001b[38;5;124mxla\u001b[39m\u001b[38;5;124m\"\u001b[39m \u001b[38;5;28;01mif\u001b[39;00m \u001b[38;5;28mself\u001b[39m\u001b[38;5;241m.\u001b[39m_jit_compile \u001b[38;5;28;01melse\u001b[39;00m \u001b[38;5;124m\"\u001b[39m\u001b[38;5;124mnonXla\u001b[39m\u001b[38;5;124m\"\u001b[39m\n\u001b[0;32m    914\u001b[0m \u001b[38;5;28;01mwith\u001b[39;00m OptionalXlaContext(\u001b[38;5;28mself\u001b[39m\u001b[38;5;241m.\u001b[39m_jit_compile):\n\u001b[1;32m--> 915\u001b[0m   result \u001b[38;5;241m=\u001b[39m \u001b[38;5;28mself\u001b[39m\u001b[38;5;241m.\u001b[39m_call(\u001b[38;5;241m*\u001b[39margs, \u001b[38;5;241m*\u001b[39m\u001b[38;5;241m*\u001b[39mkwds)\n\u001b[0;32m    917\u001b[0m new_tracing_count \u001b[38;5;241m=\u001b[39m \u001b[38;5;28mself\u001b[39m\u001b[38;5;241m.\u001b[39mexperimental_get_tracing_count()\n\u001b[0;32m    918\u001b[0m without_tracing \u001b[38;5;241m=\u001b[39m (tracing_count \u001b[38;5;241m==\u001b[39m new_tracing_count)\n",
      "File \u001b[1;32me:\\Users\\Beast-Of-War\\miniconda3\\envs\\tf2_fresh\\lib\\site-packages\\tensorflow\\python\\eager\\def_function.py:947\u001b[0m, in \u001b[0;36mFunction._call\u001b[1;34m(self, *args, **kwds)\u001b[0m\n\u001b[0;32m    944\u001b[0m   \u001b[38;5;28mself\u001b[39m\u001b[38;5;241m.\u001b[39m_lock\u001b[38;5;241m.\u001b[39mrelease()\n\u001b[0;32m    945\u001b[0m   \u001b[38;5;66;03m# In this case we have created variables on the first call, so we run the\u001b[39;00m\n\u001b[0;32m    946\u001b[0m   \u001b[38;5;66;03m# defunned version which is guaranteed to never create variables.\u001b[39;00m\n\u001b[1;32m--> 947\u001b[0m   \u001b[38;5;28;01mreturn\u001b[39;00m \u001b[38;5;28mself\u001b[39m\u001b[38;5;241m.\u001b[39m_stateless_fn(\u001b[38;5;241m*\u001b[39margs, \u001b[38;5;241m*\u001b[39m\u001b[38;5;241m*\u001b[39mkwds)  \u001b[38;5;66;03m# pylint: disable=not-callable\u001b[39;00m\n\u001b[0;32m    948\u001b[0m \u001b[38;5;28;01melif\u001b[39;00m \u001b[38;5;28mself\u001b[39m\u001b[38;5;241m.\u001b[39m_stateful_fn \u001b[38;5;129;01mis\u001b[39;00m \u001b[38;5;129;01mnot\u001b[39;00m \u001b[38;5;28;01mNone\u001b[39;00m:\n\u001b[0;32m    949\u001b[0m   \u001b[38;5;66;03m# Release the lock early so that multiple threads can perform the call\u001b[39;00m\n\u001b[0;32m    950\u001b[0m   \u001b[38;5;66;03m# in parallel.\u001b[39;00m\n\u001b[0;32m    951\u001b[0m   \u001b[38;5;28mself\u001b[39m\u001b[38;5;241m.\u001b[39m_lock\u001b[38;5;241m.\u001b[39mrelease()\n",
      "File \u001b[1;32me:\\Users\\Beast-Of-War\\miniconda3\\envs\\tf2_fresh\\lib\\site-packages\\tensorflow\\python\\eager\\function.py:2496\u001b[0m, in \u001b[0;36mFunction.__call__\u001b[1;34m(self, *args, **kwargs)\u001b[0m\n\u001b[0;32m   2493\u001b[0m \u001b[38;5;28;01mwith\u001b[39;00m \u001b[38;5;28mself\u001b[39m\u001b[38;5;241m.\u001b[39m_lock:\n\u001b[0;32m   2494\u001b[0m   (graph_function,\n\u001b[0;32m   2495\u001b[0m    filtered_flat_args) \u001b[38;5;241m=\u001b[39m \u001b[38;5;28mself\u001b[39m\u001b[38;5;241m.\u001b[39m_maybe_define_function(args, kwargs)\n\u001b[1;32m-> 2496\u001b[0m \u001b[38;5;28;01mreturn\u001b[39;00m \u001b[43mgraph_function\u001b[49m\u001b[38;5;241;43m.\u001b[39;49m\u001b[43m_call_flat\u001b[49m\u001b[43m(\u001b[49m\n\u001b[0;32m   2497\u001b[0m \u001b[43m    \u001b[49m\u001b[43mfiltered_flat_args\u001b[49m\u001b[43m,\u001b[49m\u001b[43m \u001b[49m\u001b[43mcaptured_inputs\u001b[49m\u001b[38;5;241;43m=\u001b[39;49m\u001b[43mgraph_function\u001b[49m\u001b[38;5;241;43m.\u001b[39;49m\u001b[43mcaptured_inputs\u001b[49m\u001b[43m)\u001b[49m\n",
      "File \u001b[1;32me:\\Users\\Beast-Of-War\\miniconda3\\envs\\tf2_fresh\\lib\\site-packages\\tensorflow\\python\\eager\\function.py:1862\u001b[0m, in \u001b[0;36mConcreteFunction._call_flat\u001b[1;34m(self, args, captured_inputs, cancellation_manager)\u001b[0m\n\u001b[0;32m   1858\u001b[0m possible_gradient_type \u001b[38;5;241m=\u001b[39m gradients_util\u001b[38;5;241m.\u001b[39mPossibleTapeGradientTypes(args)\n\u001b[0;32m   1859\u001b[0m \u001b[38;5;28;01mif\u001b[39;00m (possible_gradient_type \u001b[38;5;241m==\u001b[39m gradients_util\u001b[38;5;241m.\u001b[39mPOSSIBLE_GRADIENT_TYPES_NONE\n\u001b[0;32m   1860\u001b[0m     \u001b[38;5;129;01mand\u001b[39;00m executing_eagerly):\n\u001b[0;32m   1861\u001b[0m   \u001b[38;5;66;03m# No tape is watching; skip to running the function.\u001b[39;00m\n\u001b[1;32m-> 1862\u001b[0m   \u001b[38;5;28;01mreturn\u001b[39;00m \u001b[38;5;28mself\u001b[39m\u001b[38;5;241m.\u001b[39m_build_call_outputs(\u001b[38;5;28;43mself\u001b[39;49m\u001b[38;5;241;43m.\u001b[39;49m\u001b[43m_inference_function\u001b[49m\u001b[38;5;241;43m.\u001b[39;49m\u001b[43mcall\u001b[49m\u001b[43m(\u001b[49m\n\u001b[0;32m   1863\u001b[0m \u001b[43m      \u001b[49m\u001b[43mctx\u001b[49m\u001b[43m,\u001b[49m\u001b[43m \u001b[49m\u001b[43margs\u001b[49m\u001b[43m,\u001b[49m\u001b[43m \u001b[49m\u001b[43mcancellation_manager\u001b[49m\u001b[38;5;241;43m=\u001b[39;49m\u001b[43mcancellation_manager\u001b[49m\u001b[43m)\u001b[49m)\n\u001b[0;32m   1864\u001b[0m forward_backward \u001b[38;5;241m=\u001b[39m \u001b[38;5;28mself\u001b[39m\u001b[38;5;241m.\u001b[39m_select_forward_and_backward_functions(\n\u001b[0;32m   1865\u001b[0m     args,\n\u001b[0;32m   1866\u001b[0m     possible_gradient_type,\n\u001b[0;32m   1867\u001b[0m     executing_eagerly)\n\u001b[0;32m   1868\u001b[0m forward_function, args_with_tangents \u001b[38;5;241m=\u001b[39m forward_backward\u001b[38;5;241m.\u001b[39mforward()\n",
      "File \u001b[1;32me:\\Users\\Beast-Of-War\\miniconda3\\envs\\tf2_fresh\\lib\\site-packages\\tensorflow\\python\\eager\\function.py:499\u001b[0m, in \u001b[0;36m_EagerDefinedFunction.call\u001b[1;34m(self, ctx, args, cancellation_manager)\u001b[0m\n\u001b[0;32m    497\u001b[0m \u001b[38;5;28;01mwith\u001b[39;00m _InterpolateFunctionError(\u001b[38;5;28mself\u001b[39m):\n\u001b[0;32m    498\u001b[0m   \u001b[38;5;28;01mif\u001b[39;00m cancellation_manager \u001b[38;5;129;01mis\u001b[39;00m \u001b[38;5;28;01mNone\u001b[39;00m:\n\u001b[1;32m--> 499\u001b[0m     outputs \u001b[38;5;241m=\u001b[39m \u001b[43mexecute\u001b[49m\u001b[38;5;241;43m.\u001b[39;49m\u001b[43mexecute\u001b[49m\u001b[43m(\u001b[49m\n\u001b[0;32m    500\u001b[0m \u001b[43m        \u001b[49m\u001b[38;5;28;43mstr\u001b[39;49m\u001b[43m(\u001b[49m\u001b[38;5;28;43mself\u001b[39;49m\u001b[38;5;241;43m.\u001b[39;49m\u001b[43msignature\u001b[49m\u001b[38;5;241;43m.\u001b[39;49m\u001b[43mname\u001b[49m\u001b[43m)\u001b[49m\u001b[43m,\u001b[49m\n\u001b[0;32m    501\u001b[0m \u001b[43m        \u001b[49m\u001b[43mnum_outputs\u001b[49m\u001b[38;5;241;43m=\u001b[39;49m\u001b[38;5;28;43mself\u001b[39;49m\u001b[38;5;241;43m.\u001b[39;49m\u001b[43m_num_outputs\u001b[49m\u001b[43m,\u001b[49m\n\u001b[0;32m    502\u001b[0m \u001b[43m        \u001b[49m\u001b[43minputs\u001b[49m\u001b[38;5;241;43m=\u001b[39;49m\u001b[43margs\u001b[49m\u001b[43m,\u001b[49m\n\u001b[0;32m    503\u001b[0m \u001b[43m        \u001b[49m\u001b[43mattrs\u001b[49m\u001b[38;5;241;43m=\u001b[39;49m\u001b[43mattrs\u001b[49m\u001b[43m,\u001b[49m\n\u001b[0;32m    504\u001b[0m \u001b[43m        \u001b[49m\u001b[43mctx\u001b[49m\u001b[38;5;241;43m=\u001b[39;49m\u001b[43mctx\u001b[49m\u001b[43m)\u001b[49m\n\u001b[0;32m    505\u001b[0m   \u001b[38;5;28;01melse\u001b[39;00m:\n\u001b[0;32m    506\u001b[0m     outputs \u001b[38;5;241m=\u001b[39m execute\u001b[38;5;241m.\u001b[39mexecute_with_cancellation(\n\u001b[0;32m    507\u001b[0m         \u001b[38;5;28mstr\u001b[39m(\u001b[38;5;28mself\u001b[39m\u001b[38;5;241m.\u001b[39msignature\u001b[38;5;241m.\u001b[39mname),\n\u001b[0;32m    508\u001b[0m         num_outputs\u001b[38;5;241m=\u001b[39m\u001b[38;5;28mself\u001b[39m\u001b[38;5;241m.\u001b[39m_num_outputs,\n\u001b[1;32m   (...)\u001b[0m\n\u001b[0;32m    511\u001b[0m         ctx\u001b[38;5;241m=\u001b[39mctx,\n\u001b[0;32m    512\u001b[0m         cancellation_manager\u001b[38;5;241m=\u001b[39mcancellation_manager)\n",
      "File \u001b[1;32me:\\Users\\Beast-Of-War\\miniconda3\\envs\\tf2_fresh\\lib\\site-packages\\tensorflow\\python\\eager\\execute.py:54\u001b[0m, in \u001b[0;36mquick_execute\u001b[1;34m(op_name, num_outputs, inputs, attrs, ctx, name)\u001b[0m\n\u001b[0;32m     52\u001b[0m \u001b[38;5;28;01mtry\u001b[39;00m:\n\u001b[0;32m     53\u001b[0m   ctx\u001b[38;5;241m.\u001b[39mensure_initialized()\n\u001b[1;32m---> 54\u001b[0m   tensors \u001b[38;5;241m=\u001b[39m \u001b[43mpywrap_tfe\u001b[49m\u001b[38;5;241;43m.\u001b[39;49m\u001b[43mTFE_Py_Execute\u001b[49m\u001b[43m(\u001b[49m\u001b[43mctx\u001b[49m\u001b[38;5;241;43m.\u001b[39;49m\u001b[43m_handle\u001b[49m\u001b[43m,\u001b[49m\u001b[43m \u001b[49m\u001b[43mdevice_name\u001b[49m\u001b[43m,\u001b[49m\u001b[43m \u001b[49m\u001b[43mop_name\u001b[49m\u001b[43m,\u001b[49m\n\u001b[0;32m     55\u001b[0m \u001b[43m                                      \u001b[49m\u001b[43minputs\u001b[49m\u001b[43m,\u001b[49m\u001b[43m \u001b[49m\u001b[43mattrs\u001b[49m\u001b[43m,\u001b[49m\u001b[43m \u001b[49m\u001b[43mnum_outputs\u001b[49m\u001b[43m)\u001b[49m\n\u001b[0;32m     56\u001b[0m \u001b[38;5;28;01mexcept\u001b[39;00m core\u001b[38;5;241m.\u001b[39m_NotOkStatusException \u001b[38;5;28;01mas\u001b[39;00m e:\n\u001b[0;32m     57\u001b[0m   \u001b[38;5;28;01mif\u001b[39;00m name \u001b[38;5;129;01mis\u001b[39;00m \u001b[38;5;129;01mnot\u001b[39;00m \u001b[38;5;28;01mNone\u001b[39;00m:\n",
      "\u001b[1;31mKeyboardInterrupt\u001b[0m: "
     ]
    }
   ],
   "source": [
    "history_240 = model_NN.fit(\n",
    "    x_train_altered_240,\n",
    "    y_train_altered_240,\n",
    "    epochs=20,\n",
    "    batch_size=32,\n",
    "    validation_data=(x_val_altered_240, y_val_altered_240)\n",
    ")\n"
   ]
  },
  {
   "cell_type": "code",
   "execution_count": null,
   "metadata": {},
   "outputs": [],
   "source": [
    "y_pred_240 = model_NN.predict(x_test_altered_240)\n",
    "\n",
    "if len(y_pred_240.shape) > 1 and y_pred_240.shape[1] > 1:\n",
    "    y_pred_240 = np.argmax(y_pred_240, axis=1)\n",
    "print(y_pred_240)\n",
    "if len(y_test_altered_240.shape) > 1 and y_test_altered_240.shape[1] > 1:\n",
    "    y_test_altered_240 = np.argmax(y_test_raw, axis=1)\n",
    "print(y_test_altered_240)\n",
    "\n",
    "# Calculer les métriques\n",
    "accuracy_adam = accuracy_score(y_test_altered_240, y_pred_240)\n",
    "print(f\"Accuracy: {accuracy_adam:.2f}\")\n",
    "\n",
    "recall = recall_score(y_test_altered_240, y_pred_240, average='micro')\n",
    "print(f\"Recall: {recall:.2f}\")\n",
    "\n",
    "f1 = f1_score(y_test_altered_240, y_pred_240, average='micro')\n",
    "print(f\"F1 Score: {f1:.2f}\")"
   ]
  }
 ],
 "metadata": {
  "kernelspec": {
   "display_name": "tf2_10_2",
   "language": "python",
   "name": "python3"
  },
  "language_info": {
   "codemirror_mode": {
    "name": "ipython",
    "version": 3
   },
   "file_extension": ".py",
   "mimetype": "text/x-python",
   "name": "python",
   "nbconvert_exporter": "python",
   "pygments_lexer": "ipython3",
   "version": "3.10.14"
  }
 },
 "nbformat": 4,
 "nbformat_minor": 2
}
